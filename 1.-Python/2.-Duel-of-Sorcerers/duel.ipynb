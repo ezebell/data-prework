{
 "cells": [
  {
   "cell_type": "markdown",
   "metadata": {},
   "source": [
    "# Duel of sorcerers\n",
    "You are witnessing an epic battle between two powerful sorcerers: Gandalf and Saruman. Each sorcerer has 10 spells of variable power in their mind and they are going to throw them one after the other. The winner of the duel will be the one who wins more of those clashes between spells. Spells are represented as a list of 10 integers whose value equals the power of the spell.\n",
    "```\n",
    "gandalf = [10, 11, 13, 30, 22, 11, 10, 33, 22, 22]\n",
    "saruman = [23, 66, 12, 43, 12, 10, 44, 23, 12, 17]\n",
    "```\n",
    "For example:\n",
    "1. The first clash is won by Saruman: 10 against 23, wins 23\n",
    "2. The second clash wins Saruman: 11 against 66, wins 66\n",
    "3. etc.\n",
    "\n",
    "\n",
    "You will create two variables, one for each sorcerer, where the sum of clashes won will be stored. Depending on which variable is greater at the end of the duel, you will show one of the following three results on the screen:\n",
    "* Gandalf wins\n",
    "* Saruman wins\n",
    "* Tie\n",
    "\n",
    "<img src=\"images/content_lightning_bolt_big.jpg\" width=\"400\">"
   ]
  },
  {
   "cell_type": "markdown",
   "metadata": {},
   "source": [
    "## Solution"
   ]
  },
  {
   "cell_type": "code",
   "execution_count": 38,
   "metadata": {},
   "outputs": [],
   "source": [
    "# Assign spell power lists to variables\n",
    "clash_list = []\n",
    "\n",
    "Gandalf = [10, 11, 13, 30, 22, 11, 10, 33, 22, 22]\n",
    "Saruman = [23, 66, 12, 43, 12, 10, 44, 23, 12, 17]"
   ]
  },
  {
   "cell_type": "code",
   "execution_count": 39,
   "metadata": {},
   "outputs": [],
   "source": [
    "# Assign 0 to each variable that stores the victories\n",
    "Num_of_clashes = 0\n",
    "Round_of_clashes = 0"
   ]
  },
  {
   "cell_type": "code",
   "execution_count": 40,
   "metadata": {},
   "outputs": [
    {
     "name": "stdout",
     "output_type": "stream",
     "text": [
      "The duel starts...\n",
      "\n"
     ]
    }
   ],
   "source": [
    "# Execution of spell clashes\n",
    "Name_of_round = {\n",
    "    0: \"First\",\n",
    "    1: \"Second\",\n",
    "    2: \"Third\",\n",
    "    3: \"Fouth\",\n",
    "    4: \"Fifth\",\n",
    "    5: \"Sixth\",\n",
    "    6: \"Seventh\",\n",
    "    7: \"Eigth\",\n",
    "    8: \"Ninth\",\n",
    "    9: \"Tenth\"\n",
    "}\n",
    "sorcerer = \"Saruman\"\n",
    "gandalf_wins = 0\n",
    "saruman_wins = 0\n",
    "draws = 0\n",
    "total_clashes = 10\n",
    "print(\"The duel starts...\\n\")"
   ]
  },
  {
   "cell_type": "code",
   "execution_count": 41,
   "metadata": {},
   "outputs": [
    {
     "name": "stdout",
     "output_type": "stream",
     "text": [
      " - The winner of the first round is Saruman\n",
      " - The winner of the second round is Saruman\n",
      " - The winner of the third round is Gandalf\n",
      " - The winner of the fouth round is Saruman\n",
      " - The winner of the fifth round is Gandalf\n",
      " - The winner of the sixth round is Gandalf\n",
      " - The winner of the seventh round is Saruman\n",
      " - The winner of the eigth round is Gandalf\n",
      " - The winner of the ninth round is Gandalf\n",
      " - The winner of the tenth round is Gandalf\n",
      "\n",
      "The final result is Gandalf 6 of 10 battles - Saruman 4 of 10 battles.\n",
      "\n",
      "Gandalf wins the battle!\n"
     ]
    }
   ],
   "source": [
    "# We check who has won, do not forget the possibility of a draw.\n",
    "\n",
    "# Print the result based on the winner.\n",
    "import random\n",
    "\n",
    "if len(Gandalf) != len(Saruman):\n",
    "    print(\"Any of the sorcerers has more attacks!!\")\n",
    "    print(\"We are going to remove attacks randomly to match the number of attacks with the lesser.\")\n",
    "    if len(Gandalf) <= len(Saruman):\n",
    "        times = len(Saruman) - len(Gandalf)\n",
    "        count = 0\n",
    "        while count < times:\n",
    "            new_length = (len(Saruman))\n",
    "            random_num = random.randint(1, len(Saruman)-1)\n",
    "            print(random_num)\n",
    "            Saruman.pop(random_num)\n",
    "            count += 1\n",
    "    else:\n",
    "        times = len(Gandalf) - len(Saruman)\n",
    "        count = 0\n",
    "        while count < times:\n",
    "            random_num = random.randint(0, len(Gandalf)-1)\n",
    "            print(random_num)\n",
    "            Gandalf.pop(random_num)\n",
    "            count += 1\n",
    "\n",
    "number_round = 0\n",
    "\n",
    "total_clashes = len(Saruman)\n",
    "\n",
    "while number_round < total_clashes:\n",
    "    if Gandalf[number_round] == Saruman[number_round]:\n",
    "        draws = draws + 1\n",
    "    elif Gandalf[number_round] < Saruman[number_round]:\n",
    "        saruman_wins = saruman_wins + 1\n",
    "    else:\n",
    "        gandalf_wins = gandalf_wins + 1\n",
    "\n",
    "    number_round += 1\n",
    "\n",
    "round_val = 0\n",
    "\n",
    "while round_val < len(Saruman):\n",
    "    if Gandalf[round_val] == Saruman[round_val]:\n",
    "        print(\" - The %s round was a draw!\" % Name_of_round[round_val])\n",
    "    elif Gandalf[round_val] < Saruman[round_val]:\n",
    "        print(\" - The winner of the %s round is Saruman\" % Name_of_round[round_val].lower())\n",
    "    else:\n",
    "        print(\" - The winner of the %s round is Gandalf\" % Name_of_round[round_val].lower())\n",
    "    round_val = round_val + 1\n",
    "\n",
    "print(\"\\nThe final result is Gandalf %d of %d battles - Saruman %d of %d battles.\" % (gandalf_wins, total_clashes, saruman_wins, total_clashes))\n",
    "if saruman_wins < gandalf_wins:\n",
    "    print(\"\\nGandalf wins the battle!\")\n",
    "elif saruman_wins > gandalf_wins:\n",
    "    print(\"\\nSaruman wins the battle!\")\n",
    "else:\n",
    "    print(\"\\nThe battle ends with an epic draw!\")\n"
   ]
  },
  {
   "cell_type": "markdown",
   "metadata": {},
   "source": [
    "## Goals\n",
    "\n",
    "1. Treatment of lists\n",
    "2. Use of **for loop**\n",
    "3. Use of conditional **if-elif-else**\n",
    "4. Use of the functions **range(), len()**\n",
    "5. Print"
   ]
  },
  {
   "cell_type": "markdown",
   "metadata": {},
   "source": [
    "## Bonus\n",
    "\n",
    "1. Spells now have a name and there is a dictionary that relates that name to a power.\n",
    "2. A sorcerer wins if he succeeds in winning 3 spell clashes in a row.\n",
    "3. Average of each of the spell lists.\n",
    "4. Standard deviation of each of the spell lists.\n",
    "\n",
    "```\n",
    "POWER = {\n",
    "    'Fireball': 50, \n",
    "    'Lightning bolt': 40, \n",
    "    'Magic arrow': 10, \n",
    "    'Black Tentacles': 25, \n",
    "    'Contagion': 45\n",
    "}\n",
    "\n",
    "gandalf = ['Fireball', 'Lightning bolt', 'Lightning bolt', 'Magic arrow', 'Fireball', \n",
    "           'Magic arrow', 'Lightning bolt', 'Fireball', 'Fireball', 'Fireball']\n",
    "saruman = ['Contagion', 'Contagion', 'Black Tentacles', 'Fireball', 'Black Tentacles', \n",
    "           'Lightning bolt', 'Magic arrow', 'Contagion', 'Magic arrow', 'Magic arrow']\n",
    "```\n",
    "\n",
    "Good luck!"
   ]
  },
  {
   "cell_type": "code",
   "execution_count": 53,
   "metadata": {},
   "outputs": [],
   "source": [
    "# 1. Spells now have a name and there is a dictionary that relates that name to a power.\n",
    "# variables\n",
    "\n",
    "power = {\n",
    "    'Fireball': 50, \n",
    "    'Lightning bolt': 40, \n",
    "    'Magic arrow': 10, \n",
    "    'Black Tentacles': 25, \n",
    "    'Contagion': 45\n",
    "}\n",
    "\n",
    "gandalf = ['Fireball', 'Lightning bolt', 'Lightning bolt', 'Magic arrow', 'Fireball', \n",
    "           'Magic arrow', 'Lightning bolt', 'Fireball', 'Magic arrow', 'Fireball']\n",
    "saruman = ['Contagion', 'Contagion', 'Black Tentacles', 'Fireball', 'Black Tentacles', \n",
    "           'Lightning bolt', 'Magic arrow', 'Contagion', 'Magic arrow', 'Magic arrow']"
   ]
  },
  {
   "cell_type": "code",
   "execution_count": 54,
   "metadata": {},
   "outputs": [
    {
     "name": "stdout",
     "output_type": "stream",
     "text": [
      "\n",
      "The battle starts...\n",
      "\n"
     ]
    }
   ],
   "source": [
    "# Assign spell power lists to variables\n",
    "\n",
    "who_attacks = 0\n",
    "random_words_attack = [\"attacks with a \", \"uses a \", \"utilizes a \", \"charges with a \", \"shoots a \"]\n",
    "random_words_defense = [\"refuse it with a \", \"stops it with a \", \"uses a \", \"attacks with a \"]\n",
    "random_interjections = [\", \", \" and \", \" but \", \" at the same time \", \". \", \" while \"]\n",
    "\n",
    "print(\"\\nThe battle starts...\\n\")"
   ]
  },
  {
   "cell_type": "code",
   "execution_count": 57,
   "metadata": {},
   "outputs": [
    {
     "name": "stdout",
     "output_type": "stream",
     "text": [
      " 01 - Gandalf attacks with a Fireball while Saruman stops it with a Contagion\n",
      " 02 - Saruman uses a Contagion while Gandalf stops it with a Lightning bolt\n",
      " 03 - Gandalf attacks with a Lightning bolt and Saruman refuse it with a Black Tentacles\n",
      " 04 - Gandalf uses a Magic arrow while Saruman attacks with a Fireball\n",
      " 05 - Saruman utilizes a Black Tentacles. Gandalf attacks with a Fireball\n",
      " 06 - Gandalf charges with a Magic arrow while Saruman stops it with a Lightning bolt\n",
      " 07 - Saruman utilizes a Magic arrow and Gandalf attacks with a Lightning bolt\n",
      " 08 - Gandalf charges with a Fireball but Saruman uses a Contagion\n",
      " 09 - Saruman uses a Magic arrow. Gandalf uses a Magic arrow\n",
      "\t  What a draw!\n",
      " 10 - Gandalf charges with a Fireball but Saruman uses a Magic arrow\n"
     ]
    }
   ],
   "source": [
    "# 2. A sorcerer wins if he succeeds in winning 3 spell clashes in a row.\n",
    "import random\n",
    "\n",
    "Round_of_clashes = 0\n",
    "Total_of__clashes = len(saruman)\n",
    "\n",
    "saruman_score = 0\n",
    "gandalf_score = 0\n",
    "saruman_total_score = 0\n",
    "gandalf_total_score = 0\n",
    "total_draws = 0\n",
    "\n",
    "\n",
    "# Execution of spell clashes\n",
    "while saruman_score < 3 and gandalf_score < 3 and Round_of_clashes < Total_of__clashes:\n",
    "\n",
    "    who_attacks = random.randint(0, 1)\n",
    "    random_word1 = random.randint(0, len(random_words_attack)-1)\n",
    "    random_word2 = random.randint(0, len(random_words_defense)-1)\n",
    "    random_word3 = random.randint(0, len(random_interjections)-1)\n",
    "    if Round_of_clashes < 9:\n",
    "        spell_round = \"0\" + str(Round_of_clashes + 1)\n",
    "\n",
    "    else:\n",
    "        spell_round = str(Round_of_clashes + 1)\n",
    "\n",
    "    if who_attacks == 0:\n",
    "        attacker = [\"Gandalf \", gandalf]\n",
    "        defender = [\"Saruman \", saruman]\n",
    "        print(\" %s - %s%s%s%s%s%s%s\" % (spell_round, attacker[0],  random_words_attack[random_word1], attacker[1][Round_of_clashes], random_interjections[random.randint(0, len(random_interjections)-1)], defender[0],random_words_defense[random_word2], defender[1][Round_of_clashes]))\n",
    "        if power[attacker[1][Round_of_clashes]] > power[defender[1][Round_of_clashes]]:\n",
    "            gandalf_score += 1\n",
    "            gandalf_total_score += 1\n",
    "            saruman_score = 0\n",
    "        elif power[attacker[1][Round_of_clashes]] < power[defender[1][Round_of_clashes]]:\n",
    "            gandalf_score = 0\n",
    "            saruman_score += 1\n",
    "            saruman_total_score +=1\n",
    "        else:\n",
    "            print(\"\\t  What a draw!\")\n",
    "            gandalf_score = 0\n",
    "            saruman_score = 0\n",
    "            total_draws += 1\n",
    "\n",
    "    else:\n",
    "        attacker = [\"Saruman \", saruman]\n",
    "        defender = [\"Gandalf \", gandalf]\n",
    "        print(\" %s - %s%s%s%s%s%s%s\" % (spell_round, attacker[0],  random_words_attack[random_word1], attacker[1][Round_of_clashes], random_interjections[random_word3], defender[0],random_words_defense[random_word2], defender[1][Round_of_clashes]))\n",
    "        if power[attacker[1][Round_of_clashes]] > power[defender[1][Round_of_clashes]]:\n",
    "            gandalf_score = 0\n",
    "            saruman_score += 1\n",
    "            saruman_total_score += 1\n",
    "        elif power[attacker[1][Round_of_clashes]] < power[defender[1][Round_of_clashes]]:\n",
    "            gandalf_score += 1\n",
    "            gandalf_total_score += 1\n",
    "            saruman_score = 0\n",
    "        else:\n",
    "            print(\"\\t  What a draw!\")\n",
    "            gandalf_score = 0\n",
    "            saruman_score = 0\n",
    "            total_draws += 1\n",
    "    Round_of_clashes += 1\n",
    "\n",
    "\n",
    "# check for 3 wins in a row\n",
    "saruman_array = []\n",
    "gandalf_array = []\n",
    "saruman_array2 = []\n",
    "gandalf_array2 = []\n",
    "\n",
    "SD_saruman = 0\n",
    "SD_gandalf = 0\n",
    "\n",
    "\n",
    "for spell in saruman:\n",
    "    name_spell = spell\n",
    "    saruman_array.append(power[name_spell])\n",
    "\n",
    "for spell in gandalf:\n",
    "    name_spell = spell\n",
    "    gandalf_array.append(power[name_spell])\n",
    "\n",
    "average_saruman = sum(saruman_array)/len(saruman)\n",
    "average_gandalf = sum(gandalf_array)/len(gandalf)\n",
    "\n",
    "# check the winner\n",
    "import math\n",
    "\n",
    "for spells in range(len(saruman)):\n",
    "\n",
    "    saruman_array[spells] = math.pow(saruman_array[spells] - average_saruman, 2)\n",
    "\n",
    "SD_saruman = math.sqrt(sum(saruman_array) / len(saruman))\n",
    "\n",
    "\n",
    "for spells in range(len(gandalf)):\n",
    "\n",
    "    gandalf_array[spells] = math.pow(gandalf_array[spells] - average_gandalf, 2)\n",
    "\n",
    "SD_gandalf = math.sqrt(sum(gandalf_array)/len(gandalf))"
   ]
  },
  {
   "cell_type": "code",
   "execution_count": 58,
   "metadata": {},
   "outputs": [
    {
     "name": "stdout",
     "output_type": "stream",
     "text": [
      "\n",
      "Sarumnan's average spells is a 30.5 power\n",
      "Gandalf's average spells is a 35.0 power\n"
     ]
    }
   ],
   "source": [
    "# 3. Average of each of the spell lists.\n",
    "print(\"\\nSarumnan's average spells is a %s power\" % average_saruman)\n",
    "print(\"Gandalf's average spells is a %s power\" % average_gandalf)\n"
   ]
  },
  {
   "cell_type": "code",
   "execution_count": 59,
   "metadata": {
    "scrolled": true
   },
   "outputs": [
    {
     "name": "stdout",
     "output_type": "stream",
     "text": [
      "Standard deviation of Saruman is: 15.56\n",
      "Standard deviation of Gandalf is: 16.88\n"
     ]
    }
   ],
   "source": [
    "# 4. Standard deviation of each of the spell lists.\n",
    "print(\"Standard deviation of Saruman is: %.2f\" % SD_saruman)\n",
    "print(\"Standard deviation of Gandalf is: %.2f\" % SD_gandalf)\n"
   ]
  }
 ],
 "metadata": {
  "kernelspec": {
   "display_name": "Python 3",
   "language": "python",
   "name": "python3"
  },
  "language_info": {
   "codemirror_mode": {
    "name": "ipython",
    "version": 3
   },
   "file_extension": ".py",
   "mimetype": "text/x-python",
   "name": "python",
   "nbconvert_exporter": "python",
   "pygments_lexer": "ipython3",
   "version": "3.8.2"
  }
 },
 "nbformat": 4,
 "nbformat_minor": 2
}
